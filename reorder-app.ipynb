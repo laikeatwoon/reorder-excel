{
 "cells": [
  {
   "attachments": {},
   "cell_type": "markdown",
   "metadata": {},
   "source": [
    "# Build a web application to extract data from an excel file"
   ]
  },
  {
   "attachments": {},
   "cell_type": "markdown",
   "metadata": {},
   "source": [
    "### Import Libraries"
   ]
  },
  {
   "cell_type": "code",
   "execution_count": 4,
   "metadata": {},
   "outputs": [],
   "source": [
    "import streamlit as st\n",
    "import pandas as pd"
   ]
  },
  {
   "attachments": {},
   "cell_type": "markdown",
   "metadata": {},
   "source": [
    "### Define sub functions"
   ]
  },
  {
   "cell_type": "code",
   "execution_count": 5,
   "metadata": {},
   "outputs": [],
   "source": [
    "def isInt(value):\n",
    "  try:\n",
    "    int(value)\n",
    "    return True\n",
    "  except ValueError:\n",
    "    return False\n",
    "  \n",
    "def load_data(uploaded_file):\n",
    "  data = pd.read_excel(uploaded_file)\n",
    "  return data "
   ]
  },
  {
   "attachments": {},
   "cell_type": "markdown",
   "metadata": {},
   "source": [
    "### Extract Data from excel file"
   ]
  },
  {
   "cell_type": "code",
   "execution_count": 6,
   "metadata": {},
   "outputs": [],
   "source": [
    "def extract_data(data):\n",
    "  \n",
    "  new_data = pd.DataFrame(columns=['Product Code', 'Unit Sold', 'Balance Stock'])\n",
    "  i = 0\n",
    "  for index, row in data.iterrows():\n",
    "    product_code = data.at[index, \"Unnamed: 1\"]\n",
    "    unit_sold = data.at[index, \"Unnamed: 40\"]\n",
    "    balance_stock = data.at[index, \"Unnamed: 61\"]\n",
    "\n",
    "    if isinstance(product_code, str) and isInt(unit_sold):\n",
    "        new_data.loc[i] = [product_code, abs(unit_sold), balance_stock]\n",
    "        i = i + 1\n",
    "        \n",
    "  return new_data\n",
    "\n",
    "def extract_reorder_data(new_data):\n",
    "  reorder_data = new_data.query('`Unit Sold` >= `Balance Stock`')\n",
    "  return reorder_data"
   ]
  },
  {
   "attachments": {},
   "cell_type": "markdown",
   "metadata": {},
   "source": [
    "### Main Function"
   ]
  },
  {
   "cell_type": "code",
   "execution_count": null,
   "metadata": {},
   "outputs": [],
   "source": [
    "def main():\n",
    "  st.header(\"Please Order Stocks Display in the Table\")\n",
    "  uploaded_file = st.file_uploader(\"Choose a Excel file\", type=\"xlsx\")\n",
    "  \n",
    "  if uploaded_file:\n",
    "    try:\n",
    "      data = load_data(uploaded_file)\n",
    "      new_data = extract_data(data)\n",
    "      reorder_data = extract_reorder_data(new_data)\n",
    "      st.table(reorder_data)\n",
    "    except Exception as e:\n",
    "        st.warning(\"The file is not in the correct format.\")\n",
    "\n",
    "if __name__ == \"__main__\":\n",
    "    main()"
   ]
  }
 ],
 "metadata": {
  "kernelspec": {
   "display_name": "Python 3",
   "language": "python",
   "name": "python3"
  },
  "language_info": {
   "codemirror_mode": {
    "name": "ipython",
    "version": 3
   },
   "file_extension": ".py",
   "mimetype": "text/x-python",
   "name": "python",
   "nbconvert_exporter": "python",
   "pygments_lexer": "ipython3",
   "version": "3.10.9"
  },
  "orig_nbformat": 4
 },
 "nbformat": 4,
 "nbformat_minor": 2
}
