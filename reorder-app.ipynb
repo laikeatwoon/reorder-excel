{
 "cells": [
  {
   "attachments": {},
   "cell_type": "markdown",
   "metadata": {},
   "source": [
    "# Build a web application to extract data from an excel file"
   ]
  },
  {
   "attachments": {},
   "cell_type": "markdown",
   "metadata": {},
   "source": [
    "### Import Libraries"
   ]
  },
  {
   "cell_type": "code",
   "execution_count": null,
   "metadata": {},
   "outputs": [],
   "source": [
    "#!pip install -r requirements.txt\n",
    "\n",
    "import streamlit as st\n",
    "import pandas as pd\n",
    "from googleapiclient.discovery import build\n",
    "from google.oauth2 import service_account\n",
    "\n",
    "from googleapiclient.discovery import build\n",
    "from google.oauth2 import service_account"
   ]
  },
  {
   "attachments": {},
   "cell_type": "markdown",
   "metadata": {},
   "source": [
    "### Define sub functions"
   ]
  },
  {
   "cell_type": "code",
   "execution_count": null,
   "metadata": {},
   "outputs": [],
   "source": [
    "#Check is the value an Integer or not\n",
    "def isInt(value):\n",
    "  try:\n",
    "    int(value)\n",
    "    return True\n",
    "  except ValueError:\n",
    "    return False\n",
    "  \n",
    "#Load Excel File  \n",
    "def load_data(uploaded_file):\n",
    "  data = pd.read_excel(uploaded_file)\n",
    "  return data "
   ]
  },
  {
   "attachments": {},
   "cell_type": "markdown",
   "metadata": {},
   "source": [
    "### Extract Data from excel file"
   ]
  },
  {
   "cell_type": "code",
   "execution_count": null,
   "metadata": {},
   "outputs": [],
   "source": [
    "def extract_data(data):\n",
    "    # Create a New Data with Columns with Information\n",
    "    new_data = data.loc[:,['Unnamed: 1', 'Unnamed: 40', 'Unnamed: 61']]\n",
    "\n",
    "    # Drop rows with empty data\n",
    "    new_data = new_data.dropna()\n",
    "\n",
    "    # rename columns\n",
    "    new_data = new_data.rename(columns={'Unnamed: 1': 'Product Code'})\n",
    "    new_data = new_data.rename(columns={'Unnamed: 40': 'Unit Sold'})\n",
    "    new_data = new_data.rename(columns={'Unnamed: 61': 'Balance Stock'})\n",
    "\n",
    "    new_data['Unit Sold'] = new_data['Unit Sold'].astype(int).abs()\n",
    "    new_data['Balance Stock'] = new_data['Balance Stock'].astype(int)\n",
    "\n",
    "    return new_data\n"
   ]
  },
  {
   "attachments": {},
   "cell_type": "markdown",
   "metadata": {},
   "source": [
    "### Extract Reorder Data"
   ]
  },
  {
   "cell_type": "code",
   "execution_count": null,
   "metadata": {},
   "outputs": [],
   "source": [
    "def extract_reorder_data(new_data):\n",
    "  reorder_data = new_data.query('`Unit Sold` >= `Balance Stock`')\n",
    "  return reorder_data"
   ]
  },
  {
   "attachments": {},
   "cell_type": "markdown",
   "metadata": {},
   "source": [
    "### Extract Data from google sheet"
   ]
  },
  {
   "cell_type": "code",
   "execution_count": null,
   "metadata": {},
   "outputs": [],
   "source": [
    "def extract_google_sheet(sheet_name_range):\n",
    "\n",
    "  keyfile_dic = st.secrets[\"keyfile\"]\n",
    "  creds = None\n",
    "  creds = service_account.Credentials.from_service_account_info(keyfile_dic)\n",
    "\n",
    "  service = build('sheets', 'v4', credentials=creds)\n",
    "\n",
    "  # Call the Sheets API\n",
    "  sheet = service.spreadsheets()\n",
    "  result = sheet.values().get(spreadsheetId=st.secrets[\"SAMPLE_SPREADSHEET_ID\"],\n",
    "                              range=sheet_name_range).execute()\n",
    "  \n",
    "  data = result.get('values', [])\n",
    "  headers = data.pop(0)\n",
    "\n",
    "  df = pd.DataFrame(data, columns=headers)\n",
    "  df.dropna(how='all', inplace=True)\n",
    "\n",
    "  return df"
   ]
  },
  {
   "attachments": {},
   "cell_type": "markdown",
   "metadata": {},
   "source": [
    "### Main Function"
   ]
  },
  {
   "cell_type": "code",
   "execution_count": null,
   "metadata": {},
   "outputs": [],
   "source": [
    "def main():\n",
    "  \n",
    "  st.set_page_config(layout=\"wide\")\n",
    "\n",
    "  col1, col2 = st.columns([2, 3])\n",
    "  \n",
    "  with col1:\n",
    "\n",
    "    with st.expander(\"DF Items\"):\n",
    "      try:\n",
    "        google_data = extract_google_sheet(\"Loose Cargo!A1:C70\")\n",
    "        st.dataframe(google_data, use_container_width=True)\n",
    "      except Exception as e:\n",
    "        st.warning(\"Not able to load Google Sheet.\")  \n",
    "    \n",
    "    with st.expander(\"Shandong Items\"):\n",
    "      try:\n",
    "        google_data = extract_google_sheet(\"Shandong!A1:C70\")\n",
    "        st.dataframe(google_data, use_container_width=True)\n",
    "      except Exception as e:\n",
    "        st.warning(\"Not able to load Google Sheet.\") \n",
    "\n",
    "    with st.expander(\"Taiwan Glass\"):\n",
    "      try:\n",
    "        google_data = extract_google_sheet(\"Taiwan!A1:C70\")\n",
    "        st.dataframe(google_data, use_container_width=True)\n",
    "      except Exception as e:\n",
    "        st.warning(\"Not able to load Google Sheet.\") \n",
    "\n",
    "    with st.expander(\"Lug Cap\"):\n",
    "      try:\n",
    "        google_data = extract_google_sheet(\"Lug Cap!A1:C70\")\n",
    "        st.dataframe(google_data, use_container_width=True)\n",
    "      except Exception as e:\n",
    "        st.warning(\"Not able to load Google Sheet.\") \n",
    "       \n",
    "  with col2:\n",
    "    st.header(\"Please Order Stocks Display in the Table\")\n",
    "    uploaded_file = st.file_uploader(\"Choose a Excel file\", type=\"xlsx\")\n",
    "    \n",
    "    if uploaded_file:\n",
    "      try:\n",
    "        data = load_data(uploaded_file)\n",
    "        new_data = extract_data(data)\n",
    "        reorder_data = extract_reorder_data(new_data)\n",
    "        st.table(reorder_data)\n",
    "      except Exception as e:\n",
    "        st.warning(\"The file is not in the correct format.\")\n",
    "\n",
    "if __name__ == \"__main__\":\n",
    "    main()\n",
    "\n"
   ]
  }
 ],
 "metadata": {
  "kernelspec": {
   "display_name": "Python 3",
   "language": "python",
   "name": "python3"
  },
  "language_info": {
   "codemirror_mode": {
    "name": "ipython",
    "version": 3
   },
   "file_extension": ".py",
   "mimetype": "text/x-python",
   "name": "python",
   "nbconvert_exporter": "python",
   "pygments_lexer": "ipython3",
   "version": "3.10.9"
  },
  "orig_nbformat": 4
 },
 "nbformat": 4,
 "nbformat_minor": 2
}
